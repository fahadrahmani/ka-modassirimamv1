{
 "cells": [
  {
   "cell_type": "code",
   "execution_count": 1,
   "metadata": {},
   "outputs": [],
   "source": [
    "import sqlite3\n",
    "from datetime import datetime\n",
    "# from db_utils import *\n",
    "import os\n",
    "from tqdm import tqdm\n",
    "import pandas as pd"
   ]
  },
  {
   "cell_type": "code",
   "execution_count": 2,
   "metadata": {},
   "outputs": [],
   "source": [
    "pd.set_option('display.max_columns', 100)\n",
    "pd.set_option('display.max_rows', 169813)"
   ]
  },
  {
   "cell_type": "code",
   "execution_count": 3,
   "metadata": {},
   "outputs": [
    {
     "name": "stdout",
     "output_type": "stream",
     "text": [
      "Database exists with name: \"rahmanimission\"\n"
     ]
    }
   ],
   "source": [
    "def get_db_conn():\n",
    "    try:\n",
    "        conn = sqlite3.connect('file:rahmanimission.db?mode=rw', uri=True)\n",
    "        print('Database exists with name: \"rahmanimission\"')\n",
    "    except sqlite3.Error as e:\n",
    "        print(e)\n",
    "        #print('Database file dosen\\'t exists.')\n",
    "        conn = sqlite3.connect('rahmanimission.db')\n",
    "        print('New database created named: \"rahmanimission\"')\n",
    "        conn.cursor().executescript('''\n",
    "            CREATE TABLE IF NOT EXISTS track_log\n",
    "            (last_1 TEXT,last_2 TEXT,last_3 TEXT,last_4 TEXT,last_5 TEXT,last_6 TEXT,last_7 TEXT);\n",
    "\n",
    "            INSERT INTO track_log (last_1,last_2,last_3,last_4,last_5,last_6,last_7) \n",
    "            VALUES (\"last_1\",\"last_2\",\"last_3\",\"last_4\",\"last_5\",\"last_6\",\"last_7\");\n",
    "        ''')\n",
    "\n",
    "    conn.cursor().executescript('''\n",
    "        CREATE TABLE IF NOT EXISTS Progress\n",
    "        (id TEXT PRIMARY KEY, email TEXT ,name TEXT ,total_mins_learned INTEGER, skills_leveled_up INTEGER,\n",
    "        [skill_w/o_progress] INTEGER, teacher_id TEXT, links TEXT, delta TEXT);\n",
    "        \n",
    "        CREATE TABLE IF NOT EXISTS Activities\n",
    "        (student_id Text, activity TEXT, teacher_id TEXT, date TEXT, level TEXT, change TEXT, time NUMERIC,\n",
    "        correct_problems NUMERIC, total_problems NUMERIC,[correct/total_problems] TEXT);\n",
    "        \n",
    "        CREATE TABLE IF NOT EXISTS Assignments\n",
    "        (assignment Text, student_id TEXT, teacher_id TEXT, due_date TEXT, status TEXT, attempts INTEGER, best_score FLOAT,\n",
    "        last_1 NUMERIC,last_2 NUMERIC,last_3 NUMERIC,last_4 NUMERIC,last_5 NUMERIC,last_6 NUMERIC,last_7 NUMERIC);\n",
    "    ''')\n",
    "    return conn\n",
    "db_conn = get_db_conn()"
   ]
  },
  {
   "cell_type": "code",
   "execution_count": 4,
   "metadata": {},
   "outputs": [],
   "source": [
    "def update_assignment(student_id, df, teacher_id, db_conn):\n",
    "    # print('Updating Assignments of', student_id,'...')\n",
    "    db_cur = db_conn.cursor()\n",
    "    insert_sql = '''INSERT INTO Assignments (assignment, student_id, teacher_id, due_date, status, attempts, best_score)\n",
    "                VALUES (?, ?, ?, ?, ?, ?, ?)'''\n",
    "    delete_sql = '''DELETE FROM Assignments WHERE student_id = ? AND assignment = ?'''\n",
    "    \n",
    "    db_cur.execute('SELECT * FROM track_log')\n",
    "    t = db_cur.fetchone()\n",
    "    query_track = f'''SELECT [{t[0]}], [{t[1]}], [{t[2]}], [{t[3]}], [{t[4]}], [{t[5]}], [{t[6]}] FROM \n",
    "                Assignments WHERE student_id = ? AND assignment = ?'''\n",
    "    update_track = f'''UPDATE Assignments SET [{t[0]}]=?, [{t[1]}]=?, [{t[2]}]=?, [{t[3]}]=?, [{t[4]}]=?, [{t[5]}]=?, [{t[6]}]=? \n",
    "                    WHERE student_id = ? AND assignment = ?'''\n",
    "\n",
    "    len_df = len(df)\n",
    "    for index in range(len_df):\n",
    "        db_cur.execute(query_track, (student_id, df.loc[index, 'Assignment']))\n",
    "        row = db_cur.fetchone()\n",
    "        db_cur.execute(delete_sql, (student_id, df.loc[index, 'Assignment']))\n",
    "        attempts = 0\n",
    "        try:\n",
    "            attempts = int(df.loc[index, 'Attempts'])\n",
    "        except:\n",
    "            pass\n",
    "        db_cur.execute(insert_sql, (df.loc[index, 'Assignment'], student_id, teacher_id, df.loc[index, 'Due date & time'],\n",
    "                                    df.loc[index, 'Status'], attempts, df.loc[index, 'Best Score']))\n",
    "        if row is not None:\n",
    "            db_cur.execute(update_track, (row[0], row[1], row[2], row[3], row[4], row[5], row[6], \n",
    "                                          student_id, df.loc[index, 'Assignment']))\n",
    "\n",
    "    db_conn.commit()\n",
    "    # print('Assignments updated of', student_id)"
   ]
  },
  {
   "cell_type": "code",
   "execution_count": 5,
   "metadata": {},
   "outputs": [],
   "source": [
    "def update_asgn_track(db_conn, track_time=\"\"):\n",
    "    if track_time == \"\":\n",
    "        track_time = datetime.now().strftime('%b %d,%Y at %H:%M')\n",
    "    db_cur = db_conn.cursor()\n",
    "    db_cur.execute('SELECT * FROM track_log')\n",
    "    t = db_cur.fetchone()\n",
    "    \n",
    "    if track_time in t:\n",
    "        print('Aborting Track Update !!!')\n",
    "        print('You have already updated data for time',track_time)\n",
    "        print('Try after atleast 60 secs or with different column name...')\n",
    "        return\n",
    "    \n",
    "    db_cur.executescript(f'''UPDATE Assignments SET [{t[6]}] = [{t[5]}];\n",
    "                            UPDATE Assignments SET [{t[5]}] = [{t[4]}];\n",
    "                            UPDATE Assignments SET [{t[4]}] = [{t[3]}];\n",
    "                            UPDATE Assignments SET [{t[3]}] = [{t[2]}];\n",
    "                            UPDATE Assignments SET [{t[2]}] = [{t[1]}];\n",
    "                            UPDATE Assignments SET [{t[1]}] = [{t[0]}];\n",
    "                            UPDATE Assignments SET [{t[0]}] = attempts;''')\n",
    "    \n",
    "    db_cur.executescript(f'''ALTER TABLE Assignments RENAME COLUMN [{t[0]}] TO [{track_time}];\n",
    "                            ALTER TABLE Assignments RENAME COLUMN [{t[1]}] TO [{t[0]}];\n",
    "                            ALTER TABLE Assignments RENAME COLUMN [{t[2]}] TO [{t[1]}];\n",
    "                            ALTER TABLE Assignments RENAME COLUMN [{t[3]}] TO [{t[2]}];\n",
    "                            ALTER TABLE Assignments RENAME COLUMN [{t[4]}] TO [{t[3]}];\n",
    "                            ALTER TABLE Assignments RENAME COLUMN [{t[5]}] TO [{t[4]}];\n",
    "                            ALTER TABLE Assignments RENAME COLUMN [{t[6]}] TO [{t[5]}];''')\n",
    "    db_cur.execute('UPDATE track_log SET last_1= ?, last_2= ?, last_3= ?, last_4= ?, last_5= ?, last_6= ?, last_7= ?',\n",
    "                   (track_time, t[0], t[1], t[2], t[3], t[4], t[5]))\n",
    "    db_conn.commit()"
   ]
  },
  {
   "cell_type": "code",
   "execution_count": 6,
   "metadata": {},
   "outputs": [],
   "source": [
    "def get_pd_table(table_name, db_conn, student_id=\"\"):\n",
    "    \n",
    "    if student_id != \"\":\n",
    "        if table_name.upper() =='PROGRESS':\n",
    "            df = pd.read_sql(f'SELECT * FROM {table_name} WHERE id = \"{student_id}\"', db_conn)\n",
    "        else:\n",
    "            df = pd.read_sql(f'SELECT * FROM {table_name} WHERE student_id = \"{student_id}\"', db_conn)\n",
    "    else:\n",
    "        df = pd.read_sql(f'SELECT * FROM {table_name}', db_conn)\n",
    "        \n",
    "    if table_name.upper() =='ASSIGNMENTS':\n",
    "        db_cur = db_conn.cursor()\n",
    "        db_cur.execute('SELECT * FROM track_log')\n",
    "        t = db_cur.fetchone()\n",
    "        for i in range(6,0,-1):\n",
    "            df[t[i]] = df[t[i-1]] - df[t[i]]\n",
    "        df[t[0]] = df['attempts'] - df[t[0]]\n",
    "    return df"
   ]
  },
  {
   "cell_type": "code",
   "execution_count": 7,
   "metadata": {},
   "outputs": [],
   "source": [
    "def get_pd_table(table_name, db_conn, student_id=\"\"):\n",
    "    \n",
    "    if student_id != \"\":\n",
    "        if table_name.upper() =='PROGRESS':\n",
    "            df = pd.read_sql(f'SELECT * FROM {table_name} WHERE id = \"{student_id}\"', db_conn)\n",
    "        else:\n",
    "            df = pd.read_sql(f'SELECT * FROM {table_name} WHERE student_id = \"{student_id}\"', db_conn)\n",
    "    else:\n",
    "        df = pd.read_sql(f'SELECT * FROM {table_name}', db_conn)\n",
    "        \n",
    "    if table_name.upper() =='ASSIGNMENTS':\n",
    "        db_cur = db_conn.cursor()\n",
    "        db_cur.execute('SELECT * FROM track_log')\n",
    "        t = db_cur.fetchone()\n",
    "        dfcpy = df[[col for col in t]]\n",
    "        for i in range(6):\n",
    "            if dfcpy[t[i+1]].dtype == type(None):\n",
    "                df[t[i]] = dfcpy[t[i]]\n",
    "                break\n",
    "            df[t[i]] = dfcpy[t[i]] - dfcpy[t[i+1]]\n",
    "        asum =  df[[col for col in t]].sum(axis=1)\n",
    "        assert (asum == df.attempts).astype(int).sum() == len(df), \"Error: Sum of past attempts in not equal to total attempts\" \n",
    "#         df.fillna(0, inplace=True)\n",
    "    return df"
   ]
  },
  {
   "cell_type": "code",
   "execution_count": 12,
   "metadata": {
    "scrolled": true
   },
   "outputs": [
    {
     "name": "stderr",
     "output_type": "stream",
     "text": [
      "100%|██████████████████████████████████████████| 62/62 [00:13<00:00,  4.71it/s]\n"
     ]
    }
   ],
   "source": [
    "import numpy as np\n",
    "from random import randint\n",
    "files = os.listdir('CSV_files/assignments')\n",
    "for file in tqdm(files):\n",
    "    df_asgn = pd.read_csv(f'CSV_files/assignments/{file}',encoding='utf-8')\n",
    "#     print(file.split('-')[1].split('@')[0])\n",
    "    df_asgn['Attempts']=0\n",
    "    df_asgn['Attempts'] = df_asgn['Attempts'].apply(lambda x: x+ randint(0,6))\n",
    "    update_assignment(file.split('-')[1].split('@')[0],df_asgn,'Khan', db_conn)\n"
   ]
  },
  {
   "cell_type": "code",
   "execution_count": 19,
   "metadata": {},
   "outputs": [],
   "source": [
    "def change_attempts(db_conn, student_id='shaikhabdullah'):\n",
    "    attempts = input('Enter the attempts: ')\n",
    "    cur = db_conn.cursor()\n",
    "    cur.execute('UPDATE Assignments SET attempts = ? WHERE student_id = ? AND assignment=\"Power\"',(attempts, student_id))\n",
    "    db_conn.commit()"
   ]
  },
  {
   "cell_type": "code",
   "execution_count": 26,
   "metadata": {},
   "outputs": [
    {
     "name": "stdout",
     "output_type": "stream",
     "text": [
      "Enter the attempts: 7\n"
     ]
    }
   ],
   "source": [
    "change_attempts(db_conn)"
   ]
  },
  {
   "cell_type": "code",
   "execution_count": 30,
   "metadata": {},
   "outputs": [
    {
     "data": {
      "text/html": [
       "<div>\n",
       "<style scoped>\n",
       "    .dataframe tbody tr th:only-of-type {\n",
       "        vertical-align: middle;\n",
       "    }\n",
       "\n",
       "    .dataframe tbody tr th {\n",
       "        vertical-align: top;\n",
       "    }\n",
       "\n",
       "    .dataframe thead th {\n",
       "        text-align: right;\n",
       "    }\n",
       "</style>\n",
       "<table border=\"1\" class=\"dataframe\">\n",
       "  <thead>\n",
       "    <tr style=\"text-align: right;\">\n",
       "      <th></th>\n",
       "      <th>assignment</th>\n",
       "      <th>student_id</th>\n",
       "      <th>teacher_id</th>\n",
       "      <th>due_date</th>\n",
       "      <th>status</th>\n",
       "      <th>attempts</th>\n",
       "      <th>best_score</th>\n",
       "      <th>Sep 30,2020 at 20:08</th>\n",
       "      <th>Sep 30,2020 at 20:06</th>\n",
       "      <th>Sep 30,2020 at 20:04</th>\n",
       "      <th>last_1</th>\n",
       "      <th>last_2</th>\n",
       "      <th>last_3</th>\n",
       "      <th>last_4</th>\n",
       "    </tr>\n",
       "  </thead>\n",
       "  <tbody>\n",
       "    <tr>\n",
       "      <th>0</th>\n",
       "      <td>Power</td>\n",
       "      <td>shaikhabdullah</td>\n",
       "      <td>Khan</td>\n",
       "      <td>Jun 24th, 11:59 PM</td>\n",
       "      <td>Completed</td>\n",
       "      <td>7</td>\n",
       "      <td>-</td>\n",
       "      <td>7</td>\n",
       "      <td>6</td>\n",
       "      <td>5</td>\n",
       "      <td>None</td>\n",
       "      <td>None</td>\n",
       "      <td>None</td>\n",
       "      <td>None</td>\n",
       "    </tr>\n",
       "  </tbody>\n",
       "</table>\n",
       "</div>"
      ],
      "text/plain": [
       "  assignment      student_id teacher_id            due_date     status  \\\n",
       "0      Power  shaikhabdullah       Khan  Jun 24th, 11:59 PM  Completed   \n",
       "\n",
       "   attempts best_score  Sep 30,2020 at 20:08  Sep 30,2020 at 20:06  \\\n",
       "0         7          -                     7                     6   \n",
       "\n",
       "   Sep 30,2020 at 20:04 last_1 last_2 last_3 last_4  \n",
       "0                     5   None   None   None   None  "
      ]
     },
     "execution_count": 30,
     "metadata": {},
     "output_type": "execute_result"
    }
   ],
   "source": [
    "d = pd.read_sql('SELECT * FROM Assignments WHERE student_id = \"shaikhabdullah\" AND assignment=\"Power\"',db_conn)\n",
    "d"
   ]
  },
  {
   "cell_type": "code",
   "execution_count": 31,
   "metadata": {
    "scrolled": false
   },
   "outputs": [
    {
     "data": {
      "text/html": [
       "<div>\n",
       "<style scoped>\n",
       "    .dataframe tbody tr th:only-of-type {\n",
       "        vertical-align: middle;\n",
       "    }\n",
       "\n",
       "    .dataframe tbody tr th {\n",
       "        vertical-align: top;\n",
       "    }\n",
       "\n",
       "    .dataframe thead th {\n",
       "        text-align: right;\n",
       "    }\n",
       "</style>\n",
       "<table border=\"1\" class=\"dataframe\">\n",
       "  <thead>\n",
       "    <tr style=\"text-align: right;\">\n",
       "      <th></th>\n",
       "      <th>assignment</th>\n",
       "      <th>student_id</th>\n",
       "      <th>teacher_id</th>\n",
       "      <th>due_date</th>\n",
       "      <th>status</th>\n",
       "      <th>attempts</th>\n",
       "      <th>best_score</th>\n",
       "      <th>Sep 30,2020 at 20:08</th>\n",
       "      <th>Sep 30,2020 at 20:06</th>\n",
       "      <th>Sep 30,2020 at 20:04</th>\n",
       "      <th>last_1</th>\n",
       "      <th>last_2</th>\n",
       "      <th>last_3</th>\n",
       "      <th>last_4</th>\n",
       "    </tr>\n",
       "  </thead>\n",
       "  <tbody>\n",
       "    <tr>\n",
       "      <th>24</th>\n",
       "      <td>Power</td>\n",
       "      <td>shaikhabdullah</td>\n",
       "      <td>Khan</td>\n",
       "      <td>Jun 24th, 11:59 PM</td>\n",
       "      <td>Completed</td>\n",
       "      <td>7</td>\n",
       "      <td>-</td>\n",
       "      <td>1</td>\n",
       "      <td>1</td>\n",
       "      <td>5</td>\n",
       "      <td>0</td>\n",
       "      <td>0</td>\n",
       "      <td>0</td>\n",
       "      <td>0</td>\n",
       "    </tr>\n",
       "  </tbody>\n",
       "</table>\n",
       "</div>"
      ],
      "text/plain": [
       "   assignment      student_id teacher_id            due_date     status  \\\n",
       "24      Power  shaikhabdullah       Khan  Jun 24th, 11:59 PM  Completed   \n",
       "\n",
       "    attempts best_score  Sep 30,2020 at 20:08  Sep 30,2020 at 20:06  \\\n",
       "24         7          -                     1                     1   \n",
       "\n",
       "    Sep 30,2020 at 20:04  last_1  last_2  last_3  last_4  \n",
       "24                     5       0       0       0       0  "
      ]
     },
     "execution_count": 31,
     "metadata": {},
     "output_type": "execute_result"
    }
   ],
   "source": [
    "df = get_pd_table('Assignments', db_conn, student_id='shaikhabdullah')\n",
    "df.loc[df['assignment']=='Power']"
   ]
  },
  {
   "cell_type": "code",
   "execution_count": 29,
   "metadata": {},
   "outputs": [],
   "source": [
    "update_asgn_track(db_conn)"
   ]
  },
  {
   "cell_type": "code",
   "execution_count": null,
   "metadata": {},
   "outputs": [],
   "source": []
  },
  {
   "cell_type": "code",
   "execution_count": 141,
   "metadata": {},
   "outputs": [
    {
     "ename": "AssertionError",
     "evalue": "Error: Sum of past attempts in not equal to total attempts",
     "output_type": "error",
     "traceback": [
      "\u001b[1;31m---------------------------------------------------------------------------\u001b[0m",
      "\u001b[1;31mAssertionError\u001b[0m                            Traceback (most recent call last)",
      "\u001b[1;32m<ipython-input-141-991a6a513ac2>\u001b[0m in \u001b[0;36m<module>\u001b[1;34m\u001b[0m\n\u001b[0;32m      4\u001b[0m \u001b[0masum\u001b[0m \u001b[1;33m=\u001b[0m  \u001b[0mdf\u001b[0m\u001b[1;33m[\u001b[0m\u001b[1;33m[\u001b[0m\u001b[0mcol\u001b[0m \u001b[1;32mfor\u001b[0m \u001b[0mcol\u001b[0m \u001b[1;32min\u001b[0m \u001b[0mt\u001b[0m\u001b[1;33m]\u001b[0m\u001b[1;33m]\u001b[0m\u001b[1;33m.\u001b[0m\u001b[0msum\u001b[0m\u001b[1;33m(\u001b[0m\u001b[0maxis\u001b[0m\u001b[1;33m=\u001b[0m\u001b[1;36m1\u001b[0m\u001b[1;33m)\u001b[0m\u001b[1;33m\u001b[0m\u001b[1;33m\u001b[0m\u001b[0m\n\u001b[0;32m      5\u001b[0m \u001b[0masum\u001b[0m \u001b[1;33m==\u001b[0m \u001b[0mdf\u001b[0m\u001b[1;33m[\u001b[0m\u001b[1;34m'attempts'\u001b[0m\u001b[1;33m]\u001b[0m\u001b[1;33m\u001b[0m\u001b[1;33m\u001b[0m\u001b[0m\n\u001b[1;32m----> 6\u001b[1;33m \u001b[1;32massert\u001b[0m \u001b[1;33m(\u001b[0m\u001b[0masum\u001b[0m \u001b[1;33m==\u001b[0m \u001b[0mdf\u001b[0m\u001b[1;33m.\u001b[0m\u001b[0mattempts\u001b[0m\u001b[1;33m)\u001b[0m\u001b[1;33m.\u001b[0m\u001b[0mastype\u001b[0m\u001b[1;33m(\u001b[0m\u001b[0mint\u001b[0m\u001b[1;33m)\u001b[0m\u001b[1;33m.\u001b[0m\u001b[0msum\u001b[0m\u001b[1;33m(\u001b[0m\u001b[1;33m)\u001b[0m \u001b[1;33m==\u001b[0m \u001b[0mlen\u001b[0m\u001b[1;33m(\u001b[0m\u001b[0mdf\u001b[0m\u001b[1;33m)\u001b[0m\u001b[1;33m,\u001b[0m \u001b[1;34m\"Error: Sum of past attempts in not equal to total attempts\"\u001b[0m\u001b[1;33m\u001b[0m\u001b[1;33m\u001b[0m\u001b[0m\n\u001b[0m",
      "\u001b[1;31mAssertionError\u001b[0m: Error: Sum of past attempts in not equal to total attempts"
     ]
    }
   ],
   "source": [
    "db_cur = db_conn.cursor()\n",
    "db_cur.execute('SELECT * FROM track_log')\n",
    "t = db_cur.fetchone()\n",
    "asum =  df[[col for col in t]].sum(axis=1)\n",
    "asum == df['attempts']\n",
    "assert (asum == df.attempts).astype(int).sum() == len(df), \"Error: Sum of past attempts in not equal to total attempts\""
   ]
  },
  {
   "cell_type": "code",
   "execution_count": 22,
   "metadata": {
    "scrolled": true
   },
   "outputs": [
    {
     "data": {
      "text/plain": [
       "('Sep 27,2020 at 17:28',\n",
       " 'New',\n",
       " 'Sep 27,2020 at 17:27',\n",
       " 'last_1',\n",
       " 'last_2',\n",
       " 'last_3',\n",
       " 'last_4')"
      ]
     },
     "execution_count": 22,
     "metadata": {},
     "output_type": "execute_result"
    }
   ],
   "source": [
    "db_cur =db_conn.cursor()\n",
    "db_cur.execute('select * from track_log')\n",
    "r = db_cur.fetchone()\n",
    "r"
   ]
  }
 ],
 "metadata": {
  "kernelspec": {
   "display_name": "Python 3",
   "language": "python",
   "name": "python3"
  },
  "language_info": {
   "codemirror_mode": {
    "name": "ipython",
    "version": 3
   },
   "file_extension": ".py",
   "mimetype": "text/x-python",
   "name": "python",
   "nbconvert_exporter": "python",
   "pygments_lexer": "ipython3",
   "version": "3.8.3"
  }
 },
 "nbformat": 4,
 "nbformat_minor": 4
}
